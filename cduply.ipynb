{
 "cells": [
  {
   "cell_type": "code",
   "execution_count": 6,
   "metadata": {},
   "outputs": [],
   "source": [
    "import numpy as np\n",
    "from matplotlib import pyplot as plt\n",
    "from matplotlib import style\n",
    "import librosa\n",
    "import IPython.display\n",
    "import librosa.display\n",
    "import os\n",
    "import random\n",
    "from matplotlib.pyplot import specgram\n",
    "import glob"
   ]
  },
  {
   "cell_type": "code",
   "execution_count": 7,
   "metadata": {},
   "outputs": [],
   "source": [
    "def extract_feature(file_name):\n",
    "    X, sample_rate = librosa.load(file_name)\n",
    "    np.nan_to_num(X)\n",
    "    stft = np.abs(librosa.stft(X))\n",
    "    mfccs = np.mean(librosa.feature.mfcc(y=X, sr=sample_rate, n_mfcc=40).T,axis=0)\n",
    "    chroma = np.mean(librosa.feature.chroma_stft(S=stft, sr=sample_rate).T,axis=0)\n",
    "    mel = np.mean(librosa.feature.melspectrogram(X, sr=sample_rate).T,axis=0)\n",
    "    contrast = np.mean(librosa.feature.spectral_contrast(S=stft, sr=sample_rate).T,axis=0)\n",
    "    tonnetz = np.mean(librosa.feature.tonnetz(y=librosa.effects.harmonic(X), sr=sample_rate).T,axis=0)\n",
    "    return mfccs, chroma, mel, contrast, tonnetz\n",
    "\n",
    "\n",
    "def parse_audio_files(parent_dir, sub_dirs, classes, file_ext='*.wav'):\n",
    "    features, labels = np.empty((0, 193)), np.empty(0)\n",
    "    for label, sub_dir in enumerate(sub_dirs):\n",
    "        for fn in glob.glob(os.path.join(parent_dir, sub_dir, file_ext)):\n",
    "            mfccs, chroma, mel, contrast,tonnetz = extract_feature(fn)\n",
    "            ext_features = np.hstack([mfccs,chroma,mel,contrast,tonnetz])\n",
    "            features = np.vstack([features,ext_features])\n",
    "            labels = np.append(labels, classes.get(sub_dir))\n",
    "    return np.array(features), np.array(labels, dtype = np.int)\n",
    "\n",
    "\n",
    "def one_hot_encode(labels):\n",
    "    n_labels = len(labels)\n",
    "    n_unique_labels = len(np.unique(labels))\n",
    "    one_hot_encode = np.zeros((n_labels, n_unique_labels))\n",
    "    one_hot_encode[np.arange(n_labels), labels] = 1\n",
    "    return one_hot_encode"
   ]
  },
  {
   "cell_type": "code",
   "execution_count": 8,
   "metadata": {},
   "outputs": [
    {
     "data": {
      "text/plain": [
       "['nm', 'pm', 'VS', 'Mala']"
      ]
     },
     "execution_count": 8,
     "metadata": {},
     "output_type": "execute_result"
    }
   ],
   "source": [
    "\n",
    "train_dir = '/mnt/4dd2488f-d1c5-4d59-85f0-86b7c7057817/SPEAKER_MIMICRY/VS_CODE_IMPLI/Train_tsk_02'\n",
    "test_dir = '/mnt/4dd2488f-d1c5-4d59-85f0-86b7c7057817/SPEAKER_MIMICRY/VS_CODE_IMPLI/Test_tsk_02'\n",
    "\n",
    "os.listdir(train_dir)\n"
   ]
  },
  {
   "cell_type": "code",
   "execution_count": 9,
   "metadata": {},
   "outputs": [
    {
     "data": {
      "text/plain": [
       "['nm', 'pm', 'VS', 'Mala']"
      ]
     },
     "execution_count": 9,
     "metadata": {},
     "output_type": "execute_result"
    }
   ],
   "source": [
    "os.listdir(test_dir)"
   ]
  },
  {
   "cell_type": "code",
   "execution_count": 10,
   "metadata": {},
   "outputs": [
    {
     "name": "stderr",
     "output_type": "stream",
     "text": [
      "/tmp/ipykernel_29035/2441616808.py:7: FutureWarning: Pass y=[ 8.0192411e-05 -2.1533678e-04 -4.2327435e-04 ... -3.7651455e-03\n",
      " -4.8132185e-03 -2.3233504e-03] as keyword args. From version 0.10 passing these as positional arguments will result in an error\n",
      "  mel = np.mean(librosa.feature.melspectrogram(X, sr=sample_rate).T,axis=0)\n",
      "/tmp/ipykernel_29035/2441616808.py:7: FutureWarning: Pass y=[-0.00643864 -0.00676405 -0.00463421 ...  0.02510195  0.02140986\n",
      "  0.0250639 ] as keyword args. From version 0.10 passing these as positional arguments will result in an error\n",
      "  mel = np.mean(librosa.feature.melspectrogram(X, sr=sample_rate).T,axis=0)\n",
      "/tmp/ipykernel_29035/2441616808.py:7: FutureWarning: Pass y=[ 0.00374938  0.00595315  0.00774857 ... -0.28290266 -0.26409227\n",
      " -0.27941763] as keyword args. From version 0.10 passing these as positional arguments will result in an error\n",
      "  mel = np.mean(librosa.feature.melspectrogram(X, sr=sample_rate).T,axis=0)\n",
      "/tmp/ipykernel_29035/2441616808.py:7: FutureWarning: Pass y=[0.1457217  0.2100989  0.12865467 ... 0.00588224 0.00433644 0.00148834] as keyword args. From version 0.10 passing these as positional arguments will result in an error\n",
      "  mel = np.mean(librosa.feature.melspectrogram(X, sr=sample_rate).T,axis=0)\n",
      "/tmp/ipykernel_29035/2441616808.py:7: FutureWarning: Pass y=[0.00150702 0.00240742 0.00552311 ... 0.01811097 0.01690458 0.01630865] as keyword args. From version 0.10 passing these as positional arguments will result in an error\n",
      "  mel = np.mean(librosa.feature.melspectrogram(X, sr=sample_rate).T,axis=0)\n",
      "/tmp/ipykernel_29035/2441616808.py:7: FutureWarning: Pass y=[-0.00912076 -0.03465854 -0.05059636 ... -0.3498334  -0.40312457\n",
      " -0.42064297] as keyword args. From version 0.10 passing these as positional arguments will result in an error\n",
      "  mel = np.mean(librosa.feature.melspectrogram(X, sr=sample_rate).T,axis=0)\n",
      "/tmp/ipykernel_29035/2441616808.py:7: FutureWarning: Pass y=[0.15320875 0.18684064 0.0639966  ... 0.06718193 0.04256715 0.00815597] as keyword args. From version 0.10 passing these as positional arguments will result in an error\n",
      "  mel = np.mean(librosa.feature.melspectrogram(X, sr=sample_rate).T,axis=0)\n",
      "/tmp/ipykernel_29035/2441616808.py:7: FutureWarning: Pass y=[0.00842168 0.01265621 0.01414792 ... 0.01976204 0.0192205  0.02322465] as keyword args. From version 0.10 passing these as positional arguments will result in an error\n",
      "  mel = np.mean(librosa.feature.melspectrogram(X, sr=sample_rate).T,axis=0)\n",
      "/tmp/ipykernel_29035/2441616808.py:7: FutureWarning: Pass y=[ 0.00283347  0.00463619  0.00394038 ... -0.00561744 -0.00520177\n",
      " -0.00521704] as keyword args. From version 0.10 passing these as positional arguments will result in an error\n",
      "  mel = np.mean(librosa.feature.melspectrogram(X, sr=sample_rate).T,axis=0)\n",
      "/tmp/ipykernel_29035/2441616808.py:7: FutureWarning: Pass y=[0. 0. 0. ... 0. 0. 0.] as keyword args. From version 0.10 passing these as positional arguments will result in an error\n",
      "  mel = np.mean(librosa.feature.melspectrogram(X, sr=sample_rate).T,axis=0)\n",
      "/tmp/ipykernel_29035/2441616808.py:7: FutureWarning: Pass y=[-0.00184445 -0.00221419 -0.00108207 ...  0.04004586  0.05123955\n",
      "  0.05229818] as keyword args. From version 0.10 passing these as positional arguments will result in an error\n",
      "  mel = np.mean(librosa.feature.melspectrogram(X, sr=sample_rate).T,axis=0)\n",
      "/tmp/ipykernel_29035/2441616808.py:7: FutureWarning: Pass y=[0.         0.         0.         ... 0.09297207 0.13229913 0.18280415] as keyword args. From version 0.10 passing these as positional arguments will result in an error\n",
      "  mel = np.mean(librosa.feature.melspectrogram(X, sr=sample_rate).T,axis=0)\n",
      "/tmp/ipykernel_29035/2441616808.py:7: FutureWarning: Pass y=[0.0000000e+00 0.0000000e+00 0.0000000e+00 ... 2.6998241e-05 3.4608947e-05\n",
      " 0.0000000e+00] as keyword args. From version 0.10 passing these as positional arguments will result in an error\n",
      "  mel = np.mean(librosa.feature.melspectrogram(X, sr=sample_rate).T,axis=0)\n",
      "/tmp/ipykernel_29035/2441616808.py:7: FutureWarning: Pass y=[ 0.0236656   0.01452485 -0.02128187 ...  0.15490189  0.14787686\n",
      "  0.08918238] as keyword args. From version 0.10 passing these as positional arguments will result in an error\n",
      "  mel = np.mean(librosa.feature.melspectrogram(X, sr=sample_rate).T,axis=0)\n",
      "/tmp/ipykernel_29035/2441616808.py:7: FutureWarning: Pass y=[ 0.08256298  0.10142423  0.05067803 ... -0.02725292 -0.02234937\n",
      " -0.01831742] as keyword args. From version 0.10 passing these as positional arguments will result in an error\n",
      "  mel = np.mean(librosa.feature.melspectrogram(X, sr=sample_rate).T,axis=0)\n",
      "/tmp/ipykernel_29035/2441616808.py:7: FutureWarning: Pass y=[-0.00308705 -0.00460238 -0.00395666 ...  0.0148781   0.01194972\n",
      "  0.00999224] as keyword args. From version 0.10 passing these as positional arguments will result in an error\n",
      "  mel = np.mean(librosa.feature.melspectrogram(X, sr=sample_rate).T,axis=0)\n",
      "/tmp/ipykernel_29035/2441616808.py:7: FutureWarning: Pass y=[-0.12763645 -0.29362038 -0.3657138  ... -0.02515291  0.00153891\n",
      " -0.05118215] as keyword args. From version 0.10 passing these as positional arguments will result in an error\n",
      "  mel = np.mean(librosa.feature.melspectrogram(X, sr=sample_rate).T,axis=0)\n",
      "/tmp/ipykernel_29035/2441616808.py:7: FutureWarning: Pass y=[ 0.0061965   0.00923032  0.00772226 ... -0.01653729 -0.01664839\n",
      " -0.01857988] as keyword args. From version 0.10 passing these as positional arguments will result in an error\n",
      "  mel = np.mean(librosa.feature.melspectrogram(X, sr=sample_rate).T,axis=0)\n",
      "/tmp/ipykernel_29035/2441616808.py:7: FutureWarning: Pass y=[ 0.04203616  0.06746049  0.05978665 ... -0.02557463 -0.02411282\n",
      " -0.0308702 ] as keyword args. From version 0.10 passing these as positional arguments will result in an error\n",
      "  mel = np.mean(librosa.feature.melspectrogram(X, sr=sample_rate).T,axis=0)\n",
      "/tmp/ipykernel_29035/2441616808.py:7: FutureWarning: Pass y=[ 6.4888358e-05 -7.8514422e-06 -5.1027979e-05 ...  1.1518572e-02\n",
      "  1.1860581e-02  1.2787228e-02] as keyword args. From version 0.10 passing these as positional arguments will result in an error\n",
      "  mel = np.mean(librosa.feature.melspectrogram(X, sr=sample_rate).T,axis=0)\n",
      "/tmp/ipykernel_29035/2441616808.py:7: FutureWarning: Pass y=[-0.02026014 -0.02471127 -0.00763548 ... -0.01523731 -0.01474668\n",
      " -0.00861085] as keyword args. From version 0.10 passing these as positional arguments will result in an error\n",
      "  mel = np.mean(librosa.feature.melspectrogram(X, sr=sample_rate).T,axis=0)\n",
      "/tmp/ipykernel_29035/2441616808.py:7: FutureWarning: Pass y=[0.00028874 0.00031769 0.00018284 ... 0.01046877 0.0135619  0.01799425] as keyword args. From version 0.10 passing these as positional arguments will result in an error\n",
      "  mel = np.mean(librosa.feature.melspectrogram(X, sr=sample_rate).T,axis=0)\n",
      "/tmp/ipykernel_29035/2441616808.py:7: FutureWarning: Pass y=[-0.30506837 -0.43318456 -0.31573775 ...  0.6071203   0.584312\n",
      "  0.5500767 ] as keyword args. From version 0.10 passing these as positional arguments will result in an error\n",
      "  mel = np.mean(librosa.feature.melspectrogram(X, sr=sample_rate).T,axis=0)\n",
      "/tmp/ipykernel_29035/2441616808.py:7: FutureWarning: Pass y=[-0.04798543 -0.05137672 -0.01789257 ...  0.1521869   0.14868157\n",
      "  0.16711113] as keyword args. From version 0.10 passing these as positional arguments will result in an error\n",
      "  mel = np.mean(librosa.feature.melspectrogram(X, sr=sample_rate).T,axis=0)\n",
      "/tmp/ipykernel_29035/2441616808.py:7: FutureWarning: Pass y=[ 0.03419303  0.03830027  0.01579272 ... -0.01138781 -0.01218945\n",
      " -0.0116373 ] as keyword args. From version 0.10 passing these as positional arguments will result in an error\n",
      "  mel = np.mean(librosa.feature.melspectrogram(X, sr=sample_rate).T,axis=0)\n",
      "/tmp/ipykernel_29035/2441616808.py:7: FutureWarning: Pass y=[-0.00484009 -0.00724477 -0.00565618 ...  0.00306044  0.00318254\n",
      "  0.0034744 ] as keyword args. From version 0.10 passing these as positional arguments will result in an error\n",
      "  mel = np.mean(librosa.feature.melspectrogram(X, sr=sample_rate).T,axis=0)\n",
      "/tmp/ipykernel_29035/2441616808.py:7: FutureWarning: Pass y=[-0.00439148  0.00463131  0.00426282 ...  0.14057723  0.12519789\n",
      "  0.11019509] as keyword args. From version 0.10 passing these as positional arguments will result in an error\n",
      "  mel = np.mean(librosa.feature.melspectrogram(X, sr=sample_rate).T,axis=0)\n",
      "/tmp/ipykernel_29035/2441616808.py:7: FutureWarning: Pass y=[ 0.0003794   0.00243001  0.00377249 ...  0.01547899  0.00410742\n",
      " -0.02668791] as keyword args. From version 0.10 passing these as positional arguments will result in an error\n",
      "  mel = np.mean(librosa.feature.melspectrogram(X, sr=sample_rate).T,axis=0)\n",
      "/tmp/ipykernel_29035/2441616808.py:7: FutureWarning: Pass y=[-2.8062990e-05 -7.1063655e-04 -8.3416427e-04 ... -3.3560114e-05\n",
      " -3.0949104e-04 -1.5222505e-03] as keyword args. From version 0.10 passing these as positional arguments will result in an error\n",
      "  mel = np.mean(librosa.feature.melspectrogram(X, sr=sample_rate).T,axis=0)\n",
      "/tmp/ipykernel_29035/2441616808.py:7: FutureWarning: Pass y=[-0.0051492  -0.00448339 -0.04265938 ... -0.03689916 -0.02907582\n",
      " -0.02781941] as keyword args. From version 0.10 passing these as positional arguments will result in an error\n",
      "  mel = np.mean(librosa.feature.melspectrogram(X, sr=sample_rate).T,axis=0)\n",
      "/tmp/ipykernel_29035/2441616808.py:7: FutureWarning: Pass y=[-0.1902255  -0.29216883 -0.26542684 ...  0.03816262  0.03012465\n",
      "  0.02162744] as keyword args. From version 0.10 passing these as positional arguments will result in an error\n",
      "  mel = np.mean(librosa.feature.melspectrogram(X, sr=sample_rate).T,axis=0)\n",
      "/tmp/ipykernel_29035/2441616808.py:7: FutureWarning: Pass y=[ 0.0008443   0.00122291  0.00059256 ... -0.00034309 -0.0013028\n",
      " -0.00216333] as keyword args. From version 0.10 passing these as positional arguments will result in an error\n",
      "  mel = np.mean(librosa.feature.melspectrogram(X, sr=sample_rate).T,axis=0)\n",
      "/tmp/ipykernel_29035/2441616808.py:7: FutureWarning: Pass y=[0.00039502 0.00144618 0.00161585 ... 0.17106551 0.16986449 0.1678486 ] as keyword args. From version 0.10 passing these as positional arguments will result in an error\n",
      "  mel = np.mean(librosa.feature.melspectrogram(X, sr=sample_rate).T,axis=0)\n",
      "/tmp/ipykernel_29035/2441616808.py:21: DeprecationWarning: `np.int` is a deprecated alias for the builtin `int`. To silence this warning, use `int` by itself. Doing this will not modify any behavior and is safe. When replacing `np.int`, you may wish to use e.g. `np.int64` or `np.int32` to specify the precision. If you wish to review your current use, check the release note link for additional information.\n",
      "Deprecated in NumPy 1.20; for more details and guidance: https://numpy.org/devdocs/release/1.20.0-notes.html#deprecations\n",
      "  return np.array(features), np.array(labels, dtype = np.int)\n"
     ]
    }
   ],
   "source": [
    "\n",
    "sub_dirs = ['nm', 'pm', 'VS', 'Mala']\n",
    "classes = {'nm': 0, 'pm': 1, 'VS': 2, 'Mala': 3}\n",
    "features1, labels1 = parse_audio_files(train_dir, sub_dirs, classes)"
   ]
  },
  {
   "cell_type": "code",
   "execution_count": 12,
   "metadata": {},
   "outputs": [
    {
     "data": {
      "text/plain": [
       "array([0, 0, 0, 0, 0, 0, 0, 0, 0, 1, 1, 1, 1, 1, 1, 1, 2, 2, 2, 2, 2, 2,\n",
       "       2, 2, 2, 3, 3, 3, 3, 3, 3, 3, 3])"
      ]
     },
     "execution_count": 12,
     "metadata": {},
     "output_type": "execute_result"
    }
   ],
   "source": [
    "labels1\n"
   ]
  },
  {
   "cell_type": "code",
   "execution_count": 13,
   "metadata": {},
   "outputs": [],
   "source": [
    "one_hot = one_hot_encode(labels1)"
   ]
  },
  {
   "cell_type": "code",
   "execution_count": 14,
   "metadata": {},
   "outputs": [
    {
     "data": {
      "text/plain": [
       "array([[1., 0., 0., 0.],\n",
       "       [1., 0., 0., 0.],\n",
       "       [1., 0., 0., 0.],\n",
       "       [1., 0., 0., 0.],\n",
       "       [1., 0., 0., 0.],\n",
       "       [1., 0., 0., 0.],\n",
       "       [1., 0., 0., 0.],\n",
       "       [1., 0., 0., 0.],\n",
       "       [1., 0., 0., 0.],\n",
       "       [0., 1., 0., 0.],\n",
       "       [0., 1., 0., 0.],\n",
       "       [0., 1., 0., 0.],\n",
       "       [0., 1., 0., 0.],\n",
       "       [0., 1., 0., 0.],\n",
       "       [0., 1., 0., 0.],\n",
       "       [0., 1., 0., 0.],\n",
       "       [0., 0., 1., 0.],\n",
       "       [0., 0., 1., 0.],\n",
       "       [0., 0., 1., 0.],\n",
       "       [0., 0., 1., 0.],\n",
       "       [0., 0., 1., 0.],\n",
       "       [0., 0., 1., 0.],\n",
       "       [0., 0., 1., 0.],\n",
       "       [0., 0., 1., 0.],\n",
       "       [0., 0., 1., 0.],\n",
       "       [0., 0., 0., 1.],\n",
       "       [0., 0., 0., 1.],\n",
       "       [0., 0., 0., 1.],\n",
       "       [0., 0., 0., 1.],\n",
       "       [0., 0., 0., 1.],\n",
       "       [0., 0., 0., 1.],\n",
       "       [0., 0., 0., 1.],\n",
       "       [0., 0., 0., 1.]])"
      ]
     },
     "execution_count": 14,
     "metadata": {},
     "output_type": "execute_result"
    }
   ],
   "source": [
    "one_hot"
   ]
  },
  {
   "cell_type": "code",
   "execution_count": 19,
   "metadata": {},
   "outputs": [],
   "source": [
    "from sklearn.model_selection import train_test_split\n",
    "\n",
    "X_train, x_test, y_train, y_test = train_test_split(features1, one_hot, test_size=0.1, random_state = 127)"
   ]
  },
  {
   "cell_type": "code",
   "execution_count": 20,
   "metadata": {},
   "outputs": [
    {
     "data": {
      "text/plain": [
       "(29, 193)"
      ]
     },
     "execution_count": 20,
     "metadata": {},
     "output_type": "execute_result"
    }
   ],
   "source": [
    "X_train.shape"
   ]
  },
  {
   "cell_type": "code",
   "execution_count": 21,
   "metadata": {},
   "outputs": [
    {
     "data": {
      "text/plain": [
       "(29, 4)"
      ]
     },
     "execution_count": 21,
     "metadata": {},
     "output_type": "execute_result"
    }
   ],
   "source": [
    "y_train.shape"
   ]
  },
  {
   "cell_type": "code",
   "execution_count": 22,
   "metadata": {},
   "outputs": [
    {
     "name": "stderr",
     "output_type": "stream",
     "text": [
      "2022-12-27 20:41:53.763521: I tensorflow/core/platform/cpu_feature_guard.cc:193] This TensorFlow binary is optimized with oneAPI Deep Neural Network Library (oneDNN) to use the following CPU instructions in performance-critical operations:  AVX2 FMA\n",
      "To enable them in other operations, rebuild TensorFlow with the appropriate compiler flags.\n",
      "2022-12-27 20:41:54.195600: W tensorflow/compiler/xla/stream_executor/platform/default/dso_loader.cc:64] Could not load dynamic library 'libcudart.so.11.0'; dlerror: libcudart.so.11.0: cannot open shared object file: No such file or directory\n",
      "2022-12-27 20:41:54.195639: I tensorflow/compiler/xla/stream_executor/cuda/cudart_stub.cc:29] Ignore above cudart dlerror if you do not have a GPU set up on your machine.\n",
      "2022-12-27 20:41:55.525616: W tensorflow/compiler/xla/stream_executor/platform/default/dso_loader.cc:64] Could not load dynamic library 'libnvinfer.so.7'; dlerror: libnvinfer.so.7: cannot open shared object file: No such file or directory\n",
      "2022-12-27 20:41:55.525757: W tensorflow/compiler/xla/stream_executor/platform/default/dso_loader.cc:64] Could not load dynamic library 'libnvinfer_plugin.so.7'; dlerror: libnvinfer_plugin.so.7: cannot open shared object file: No such file or directory\n",
      "2022-12-27 20:41:55.525771: W tensorflow/compiler/tf2tensorrt/utils/py_utils.cc:38] TF-TRT Warning: Cannot dlopen some TensorRT libraries. If you would like to use Nvidia GPU with TensorRT, please make sure the missing libraries mentioned above are installed properly.\n"
     ]
    }
   ],
   "source": [
    "from keras.models import Sequential\n",
    "from keras.layers import Dense,Activation,Dropout\n"
   ]
  },
  {
   "cell_type": "code",
   "execution_count": 23,
   "metadata": {},
   "outputs": [
    {
     "name": "stderr",
     "output_type": "stream",
     "text": [
      "2022-12-27 20:41:58.018151: W tensorflow/compiler/xla/stream_executor/platform/default/dso_loader.cc:64] Could not load dynamic library 'libcuda.so.1'; dlerror: libcuda.so.1: cannot open shared object file: No such file or directory\n",
      "2022-12-27 20:41:58.018184: W tensorflow/compiler/xla/stream_executor/cuda/cuda_driver.cc:265] failed call to cuInit: UNKNOWN ERROR (303)\n",
      "2022-12-27 20:41:58.018207: I tensorflow/compiler/xla/stream_executor/cuda/cuda_diagnostics.cc:156] kernel driver does not appear to be running on this host (cruz-Predator-PH315-51): /proc/driver/nvidia/version does not exist\n",
      "2022-12-27 20:41:58.018462: I tensorflow/core/platform/cpu_feature_guard.cc:193] This TensorFlow binary is optimized with oneAPI Deep Neural Network Library (oneDNN) to use the following CPU instructions in performance-critical operations:  AVX2 FMA\n",
      "To enable them in other operations, rebuild TensorFlow with the appropriate compiler flags.\n"
     ]
    }
   ],
   "source": [
    "num_labels = one_hot.shape[1]\n",
    "filter_size = 4\n",
    "\n",
    "def build_model_graph(input_shape=(40,)):\n",
    "    model = Sequential()\n",
    "    model.add(Dense(256))\n",
    "    model.add(Activation('relu'))\n",
    "    model.add(Dropout(0.5))\n",
    "    model.add(Dense(256))\n",
    "    model.add(Activation('relu'))\n",
    "    model.add(Dropout(0.5))\n",
    "    model.add(Dense(num_labels))\n",
    "    model.add(Activation('sigmoid'))\n",
    "    # Compile the model\n",
    "    \n",
    "    model.compile(loss='categorical_crossentropy', metrics=['accuracy'], optimizer='adam')\n",
    "    \n",
    "    return model\n",
    "\n",
    "model = build_model_graph()"
   ]
  },
  {
   "cell_type": "code",
   "execution_count": 24,
   "metadata": {},
   "outputs": [],
   "source": [
    "from keras.callbacks import ModelCheckpoint \n",
    "from datetime import datetime \n",
    "\n",
    "num_epochs = 100\n",
    "num_batch_size = 32\n",
    "checkpointer = ModelCheckpoint(filepath=\"dnnfdp.hdf5\", monitor='val_accuracy', verbose=1, save_best_only=True, mode='max')"
   ]
  },
  {
   "cell_type": "code",
   "execution_count": 25,
   "metadata": {},
   "outputs": [
    {
     "name": "stdout",
     "output_type": "stream",
     "text": [
      "Epoch 1/100\n",
      "1/1 [==============================] - ETA: 0s - loss: 23.8318 - accuracy: 0.2069\n",
      "Epoch 1: val_accuracy improved from -inf to 0.25000, saving model to dnnfdp.hdf5\n",
      "1/1 [==============================] - 1s 1s/step - loss: 23.8318 - accuracy: 0.2069 - val_loss: 5.9117 - val_accuracy: 0.2500\n",
      "Epoch 2/100\n",
      "1/1 [==============================] - ETA: 0s - loss: 26.0210 - accuracy: 0.3103\n",
      "Epoch 2: val_accuracy did not improve from 0.25000\n",
      "1/1 [==============================] - 0s 47ms/step - loss: 26.0210 - accuracy: 0.3103 - val_loss: 7.0335 - val_accuracy: 0.2500\n",
      "Epoch 3/100\n",
      "1/1 [==============================] - ETA: 0s - loss: 29.4770 - accuracy: 0.2414\n",
      "Epoch 3: val_accuracy did not improve from 0.25000\n",
      "1/1 [==============================] - 0s 46ms/step - loss: 29.4770 - accuracy: 0.2414 - val_loss: 9.1785 - val_accuracy: 0.0000e+00\n",
      "Epoch 4/100\n",
      "1/1 [==============================] - ETA: 0s - loss: 17.6898 - accuracy: 0.3793\n",
      "Epoch 4: val_accuracy did not improve from 0.25000\n",
      "1/1 [==============================] - 0s 52ms/step - loss: 17.6898 - accuracy: 0.3793 - val_loss: 9.9394 - val_accuracy: 0.0000e+00\n",
      "Epoch 5/100\n",
      "1/1 [==============================] - ETA: 0s - loss: 12.7478 - accuracy: 0.4138\n",
      "Epoch 5: val_accuracy did not improve from 0.25000\n",
      "1/1 [==============================] - 0s 47ms/step - loss: 12.7478 - accuracy: 0.4138 - val_loss: 8.5386 - val_accuracy: 0.2500\n",
      "Epoch 6/100\n",
      "1/1 [==============================] - ETA: 0s - loss: 20.5805 - accuracy: 0.2759\n",
      "Epoch 6: val_accuracy did not improve from 0.25000\n",
      "1/1 [==============================] - 0s 59ms/step - loss: 20.5805 - accuracy: 0.2759 - val_loss: 6.5576 - val_accuracy: 0.2500\n",
      "Epoch 7/100\n",
      "1/1 [==============================] - ETA: 0s - loss: 19.0626 - accuracy: 0.2759\n",
      "Epoch 7: val_accuracy did not improve from 0.25000\n",
      "1/1 [==============================] - 0s 55ms/step - loss: 19.0626 - accuracy: 0.2759 - val_loss: 5.6754 - val_accuracy: 0.2500\n",
      "Epoch 8/100\n",
      "1/1 [==============================] - ETA: 0s - loss: 14.7033 - accuracy: 0.4483\n",
      "Epoch 8: val_accuracy did not improve from 0.25000\n",
      "1/1 [==============================] - 0s 54ms/step - loss: 14.7033 - accuracy: 0.4483 - val_loss: 5.2346 - val_accuracy: 0.2500\n",
      "Epoch 9/100\n",
      "1/1 [==============================] - ETA: 0s - loss: 21.6486 - accuracy: 0.2414\n",
      "Epoch 9: val_accuracy did not improve from 0.25000\n",
      "1/1 [==============================] - 0s 54ms/step - loss: 21.6486 - accuracy: 0.2414 - val_loss: 3.8378 - val_accuracy: 0.2500\n",
      "Epoch 10/100\n",
      "1/1 [==============================] - ETA: 0s - loss: 18.1348 - accuracy: 0.3448\n",
      "Epoch 10: val_accuracy improved from 0.25000 to 0.50000, saving model to dnnfdp.hdf5\n",
      "1/1 [==============================] - 0s 218ms/step - loss: 18.1348 - accuracy: 0.3448 - val_loss: 2.7216 - val_accuracy: 0.5000\n",
      "Epoch 11/100\n",
      "1/1 [==============================] - ETA: 0s - loss: 16.5536 - accuracy: 0.3448\n",
      "Epoch 11: val_accuracy improved from 0.50000 to 0.75000, saving model to dnnfdp.hdf5\n",
      "1/1 [==============================] - 0s 163ms/step - loss: 16.5536 - accuracy: 0.3448 - val_loss: 2.0473 - val_accuracy: 0.7500\n",
      "Epoch 12/100\n",
      "1/1 [==============================] - ETA: 0s - loss: 17.1301 - accuracy: 0.4483\n",
      "Epoch 12: val_accuracy did not improve from 0.75000\n",
      "1/1 [==============================] - 0s 51ms/step - loss: 17.1301 - accuracy: 0.4483 - val_loss: 1.5862 - val_accuracy: 0.7500\n",
      "Epoch 13/100\n",
      "1/1 [==============================] - ETA: 0s - loss: 14.8209 - accuracy: 0.3793\n",
      "Epoch 13: val_accuracy did not improve from 0.75000\n",
      "1/1 [==============================] - 0s 46ms/step - loss: 14.8209 - accuracy: 0.3793 - val_loss: 1.6534 - val_accuracy: 0.7500\n",
      "Epoch 14/100\n",
      "1/1 [==============================] - ETA: 0s - loss: 10.2342 - accuracy: 0.4483\n",
      "Epoch 14: val_accuracy did not improve from 0.75000\n",
      "1/1 [==============================] - 0s 46ms/step - loss: 10.2342 - accuracy: 0.4483 - val_loss: 1.8046 - val_accuracy: 0.7500\n",
      "Epoch 15/100\n",
      "1/1 [==============================] - ETA: 0s - loss: 10.5548 - accuracy: 0.4483\n",
      "Epoch 15: val_accuracy did not improve from 0.75000\n",
      "1/1 [==============================] - 0s 46ms/step - loss: 10.5548 - accuracy: 0.4483 - val_loss: 1.8120 - val_accuracy: 0.7500\n",
      "Epoch 16/100\n",
      "1/1 [==============================] - ETA: 0s - loss: 10.8948 - accuracy: 0.4138\n",
      "Epoch 16: val_accuracy did not improve from 0.75000\n",
      "1/1 [==============================] - 0s 40ms/step - loss: 10.8948 - accuracy: 0.4138 - val_loss: 1.9556 - val_accuracy: 0.7500\n",
      "Epoch 17/100\n",
      "1/1 [==============================] - ETA: 0s - loss: 18.4002 - accuracy: 0.4138\n",
      "Epoch 17: val_accuracy did not improve from 0.75000\n",
      "1/1 [==============================] - 0s 43ms/step - loss: 18.4002 - accuracy: 0.4138 - val_loss: 2.1165 - val_accuracy: 0.7500\n",
      "Epoch 18/100\n",
      "1/1 [==============================] - ETA: 0s - loss: 7.4660 - accuracy: 0.4483\n",
      "Epoch 18: val_accuracy did not improve from 0.75000\n",
      "1/1 [==============================] - 0s 42ms/step - loss: 7.4660 - accuracy: 0.4483 - val_loss: 2.3422 - val_accuracy: 0.7500\n",
      "Epoch 19/100\n",
      "1/1 [==============================] - ETA: 0s - loss: 10.6413 - accuracy: 0.5172\n",
      "Epoch 19: val_accuracy did not improve from 0.75000\n",
      "1/1 [==============================] - 0s 47ms/step - loss: 10.6413 - accuracy: 0.5172 - val_loss: 2.5039 - val_accuracy: 0.7500\n",
      "Epoch 20/100\n",
      "1/1 [==============================] - ETA: 0s - loss: 6.3116 - accuracy: 0.6552\n",
      "Epoch 20: val_accuracy did not improve from 0.75000\n",
      "1/1 [==============================] - 0s 39ms/step - loss: 6.3116 - accuracy: 0.6552 - val_loss: 2.8509 - val_accuracy: 0.7500\n",
      "Epoch 21/100\n",
      "1/1 [==============================] - ETA: 0s - loss: 7.8061 - accuracy: 0.5517\n",
      "Epoch 21: val_accuracy did not improve from 0.75000\n",
      "1/1 [==============================] - 0s 44ms/step - loss: 7.8061 - accuracy: 0.5517 - val_loss: 3.4512 - val_accuracy: 0.5000\n",
      "Epoch 22/100\n",
      "1/1 [==============================] - ETA: 0s - loss: 8.4542 - accuracy: 0.5862\n",
      "Epoch 22: val_accuracy did not improve from 0.75000\n",
      "1/1 [==============================] - 0s 51ms/step - loss: 8.4542 - accuracy: 0.5862 - val_loss: 4.2786 - val_accuracy: 0.5000\n",
      "Epoch 23/100\n",
      "1/1 [==============================] - ETA: 0s - loss: 7.3074 - accuracy: 0.5862\n",
      "Epoch 23: val_accuracy did not improve from 0.75000\n",
      "1/1 [==============================] - 0s 55ms/step - loss: 7.3074 - accuracy: 0.5862 - val_loss: 5.1588 - val_accuracy: 0.5000\n",
      "Epoch 24/100\n",
      "1/1 [==============================] - ETA: 0s - loss: 9.2013 - accuracy: 0.5517\n",
      "Epoch 24: val_accuracy did not improve from 0.75000\n",
      "1/1 [==============================] - 0s 64ms/step - loss: 9.2013 - accuracy: 0.5517 - val_loss: 5.8637 - val_accuracy: 0.5000\n",
      "Epoch 25/100\n",
      "1/1 [==============================] - ETA: 0s - loss: 6.0608 - accuracy: 0.5862\n",
      "Epoch 25: val_accuracy did not improve from 0.75000\n",
      "1/1 [==============================] - 0s 57ms/step - loss: 6.0608 - accuracy: 0.5862 - val_loss: 6.2267 - val_accuracy: 0.5000\n",
      "Epoch 26/100\n",
      "1/1 [==============================] - ETA: 0s - loss: 10.4528 - accuracy: 0.4138\n",
      "Epoch 26: val_accuracy did not improve from 0.75000\n",
      "1/1 [==============================] - 0s 56ms/step - loss: 10.4528 - accuracy: 0.4138 - val_loss: 6.2183 - val_accuracy: 0.5000\n",
      "Epoch 27/100\n",
      "1/1 [==============================] - ETA: 0s - loss: 12.0214 - accuracy: 0.4828\n",
      "Epoch 27: val_accuracy did not improve from 0.75000\n",
      "1/1 [==============================] - 0s 51ms/step - loss: 12.0214 - accuracy: 0.4828 - val_loss: 5.8830 - val_accuracy: 0.5000\n",
      "Epoch 28/100\n",
      "1/1 [==============================] - ETA: 0s - loss: 7.1920 - accuracy: 0.6207\n",
      "Epoch 28: val_accuracy did not improve from 0.75000\n",
      "1/1 [==============================] - 0s 52ms/step - loss: 7.1920 - accuracy: 0.6207 - val_loss: 5.3741 - val_accuracy: 0.5000\n",
      "Epoch 29/100\n",
      "1/1 [==============================] - ETA: 0s - loss: 5.9258 - accuracy: 0.5862\n",
      "Epoch 29: val_accuracy did not improve from 0.75000\n",
      "1/1 [==============================] - 0s 50ms/step - loss: 5.9258 - accuracy: 0.5862 - val_loss: 4.5581 - val_accuracy: 0.5000\n",
      "Epoch 30/100\n",
      "1/1 [==============================] - ETA: 0s - loss: 7.5547 - accuracy: 0.5172\n",
      "Epoch 30: val_accuracy did not improve from 0.75000\n",
      "1/1 [==============================] - 0s 58ms/step - loss: 7.5547 - accuracy: 0.5172 - val_loss: 3.8703 - val_accuracy: 0.5000\n",
      "Epoch 31/100\n",
      "1/1 [==============================] - ETA: 0s - loss: 7.4987 - accuracy: 0.4483\n",
      "Epoch 31: val_accuracy did not improve from 0.75000\n",
      "1/1 [==============================] - 0s 62ms/step - loss: 7.4987 - accuracy: 0.4483 - val_loss: 3.5303 - val_accuracy: 0.7500\n",
      "Epoch 32/100\n",
      "1/1 [==============================] - ETA: 0s - loss: 5.5551 - accuracy: 0.5517\n",
      "Epoch 32: val_accuracy did not improve from 0.75000\n",
      "1/1 [==============================] - 0s 52ms/step - loss: 5.5551 - accuracy: 0.5517 - val_loss: 3.3928 - val_accuracy: 0.5000\n",
      "Epoch 33/100\n",
      "1/1 [==============================] - ETA: 0s - loss: 4.2128 - accuracy: 0.6552\n",
      "Epoch 33: val_accuracy did not improve from 0.75000\n",
      "1/1 [==============================] - 0s 54ms/step - loss: 4.2128 - accuracy: 0.6552 - val_loss: 3.4260 - val_accuracy: 0.5000\n",
      "Epoch 34/100\n",
      "1/1 [==============================] - ETA: 0s - loss: 3.9295 - accuracy: 0.6897\n",
      "Epoch 34: val_accuracy did not improve from 0.75000\n",
      "1/1 [==============================] - 0s 55ms/step - loss: 3.9295 - accuracy: 0.6897 - val_loss: 3.4033 - val_accuracy: 0.5000\n",
      "Epoch 35/100\n",
      "1/1 [==============================] - ETA: 0s - loss: 4.4890 - accuracy: 0.6552\n",
      "Epoch 35: val_accuracy did not improve from 0.75000\n",
      "1/1 [==============================] - 0s 64ms/step - loss: 4.4890 - accuracy: 0.6552 - val_loss: 3.4528 - val_accuracy: 0.5000\n",
      "Epoch 36/100\n",
      "1/1 [==============================] - ETA: 0s - loss: 5.3338 - accuracy: 0.6897\n",
      "Epoch 36: val_accuracy did not improve from 0.75000\n",
      "1/1 [==============================] - 0s 69ms/step - loss: 5.3338 - accuracy: 0.6897 - val_loss: 3.3987 - val_accuracy: 0.5000\n",
      "Epoch 37/100\n",
      "1/1 [==============================] - ETA: 0s - loss: 5.7007 - accuracy: 0.5517\n",
      "Epoch 37: val_accuracy did not improve from 0.75000\n",
      "1/1 [==============================] - 0s 64ms/step - loss: 5.7007 - accuracy: 0.5517 - val_loss: 3.3766 - val_accuracy: 0.5000\n",
      "Epoch 38/100\n",
      "1/1 [==============================] - ETA: 0s - loss: 3.3272 - accuracy: 0.6552\n",
      "Epoch 38: val_accuracy did not improve from 0.75000\n",
      "1/1 [==============================] - 0s 44ms/step - loss: 3.3272 - accuracy: 0.6552 - val_loss: 3.1883 - val_accuracy: 0.5000\n",
      "Epoch 39/100\n",
      "1/1 [==============================] - ETA: 0s - loss: 5.1445 - accuracy: 0.5862\n",
      "Epoch 39: val_accuracy did not improve from 0.75000\n",
      "1/1 [==============================] - 0s 65ms/step - loss: 5.1445 - accuracy: 0.5862 - val_loss: 3.0968 - val_accuracy: 0.5000\n",
      "Epoch 40/100\n",
      "1/1 [==============================] - ETA: 0s - loss: 2.4821 - accuracy: 0.6552\n",
      "Epoch 40: val_accuracy did not improve from 0.75000\n",
      "1/1 [==============================] - 0s 64ms/step - loss: 2.4821 - accuracy: 0.6552 - val_loss: 3.0462 - val_accuracy: 0.5000\n",
      "Epoch 41/100\n",
      "1/1 [==============================] - ETA: 0s - loss: 2.6189 - accuracy: 0.6552\n",
      "Epoch 41: val_accuracy did not improve from 0.75000\n",
      "1/1 [==============================] - 0s 63ms/step - loss: 2.6189 - accuracy: 0.6552 - val_loss: 2.9026 - val_accuracy: 0.5000\n",
      "Epoch 42/100\n",
      "1/1 [==============================] - ETA: 0s - loss: 5.0931 - accuracy: 0.5862\n",
      "Epoch 42: val_accuracy did not improve from 0.75000\n",
      "1/1 [==============================] - 0s 56ms/step - loss: 5.0931 - accuracy: 0.5862 - val_loss: 2.8267 - val_accuracy: 0.5000\n",
      "Epoch 43/100\n",
      "1/1 [==============================] - ETA: 0s - loss: 2.1368 - accuracy: 0.6897\n",
      "Epoch 43: val_accuracy did not improve from 0.75000\n",
      "1/1 [==============================] - 0s 70ms/step - loss: 2.1368 - accuracy: 0.6897 - val_loss: 2.7884 - val_accuracy: 0.5000\n",
      "Epoch 44/100\n",
      "1/1 [==============================] - ETA: 0s - loss: 3.9244 - accuracy: 0.7241\n",
      "Epoch 44: val_accuracy did not improve from 0.75000\n",
      "1/1 [==============================] - 0s 59ms/step - loss: 3.9244 - accuracy: 0.7241 - val_loss: 2.8286 - val_accuracy: 0.5000\n",
      "Epoch 45/100\n",
      "1/1 [==============================] - ETA: 0s - loss: 3.6540 - accuracy: 0.7586\n",
      "Epoch 45: val_accuracy did not improve from 0.75000\n",
      "1/1 [==============================] - 0s 54ms/step - loss: 3.6540 - accuracy: 0.7586 - val_loss: 2.8416 - val_accuracy: 0.5000\n",
      "Epoch 46/100\n",
      "1/1 [==============================] - ETA: 0s - loss: 3.4115 - accuracy: 0.6207\n",
      "Epoch 46: val_accuracy did not improve from 0.75000\n",
      "1/1 [==============================] - 0s 58ms/step - loss: 3.4115 - accuracy: 0.6207 - val_loss: 2.8794 - val_accuracy: 0.5000\n",
      "Epoch 47/100\n",
      "1/1 [==============================] - ETA: 0s - loss: 3.6137 - accuracy: 0.6552\n",
      "Epoch 47: val_accuracy did not improve from 0.75000\n",
      "1/1 [==============================] - 0s 59ms/step - loss: 3.6137 - accuracy: 0.6552 - val_loss: 2.7414 - val_accuracy: 0.5000\n",
      "Epoch 48/100\n",
      "1/1 [==============================] - ETA: 0s - loss: 1.5892 - accuracy: 0.7241\n",
      "Epoch 48: val_accuracy did not improve from 0.75000\n",
      "1/1 [==============================] - 0s 53ms/step - loss: 1.5892 - accuracy: 0.7241 - val_loss: 2.7423 - val_accuracy: 0.5000\n",
      "Epoch 49/100\n",
      "1/1 [==============================] - ETA: 0s - loss: 0.7220 - accuracy: 0.8621\n",
      "Epoch 49: val_accuracy did not improve from 0.75000\n",
      "1/1 [==============================] - 0s 59ms/step - loss: 0.7220 - accuracy: 0.8621 - val_loss: 2.7790 - val_accuracy: 0.5000\n",
      "Epoch 50/100\n",
      "1/1 [==============================] - ETA: 0s - loss: 2.3968 - accuracy: 0.7241\n",
      "Epoch 50: val_accuracy did not improve from 0.75000\n",
      "1/1 [==============================] - 0s 64ms/step - loss: 2.3968 - accuracy: 0.7241 - val_loss: 2.7768 - val_accuracy: 0.5000\n",
      "Epoch 51/100\n",
      "1/1 [==============================] - ETA: 0s - loss: 4.0821 - accuracy: 0.6897\n",
      "Epoch 51: val_accuracy did not improve from 0.75000\n",
      "1/1 [==============================] - 0s 62ms/step - loss: 4.0821 - accuracy: 0.6897 - val_loss: 2.7888 - val_accuracy: 0.5000\n",
      "Epoch 52/100\n",
      "1/1 [==============================] - ETA: 0s - loss: 2.0603 - accuracy: 0.8276\n",
      "Epoch 52: val_accuracy did not improve from 0.75000\n",
      "1/1 [==============================] - 0s 49ms/step - loss: 2.0603 - accuracy: 0.8276 - val_loss: 2.9146 - val_accuracy: 0.5000\n",
      "Epoch 53/100\n",
      "1/1 [==============================] - ETA: 0s - loss: 1.7983 - accuracy: 0.7931\n",
      "Epoch 53: val_accuracy did not improve from 0.75000\n",
      "1/1 [==============================] - 0s 57ms/step - loss: 1.7983 - accuracy: 0.7931 - val_loss: 3.0267 - val_accuracy: 0.5000\n",
      "Epoch 54/100\n",
      "1/1 [==============================] - ETA: 0s - loss: 2.2863 - accuracy: 0.7586\n",
      "Epoch 54: val_accuracy did not improve from 0.75000\n",
      "1/1 [==============================] - 0s 50ms/step - loss: 2.2863 - accuracy: 0.7586 - val_loss: 3.1219 - val_accuracy: 0.5000\n",
      "Epoch 55/100\n",
      "1/1 [==============================] - ETA: 0s - loss: 1.3591 - accuracy: 0.7586\n",
      "Epoch 55: val_accuracy did not improve from 0.75000\n",
      "1/1 [==============================] - 0s 63ms/step - loss: 1.3591 - accuracy: 0.7586 - val_loss: 3.2115 - val_accuracy: 0.5000\n",
      "Epoch 56/100\n",
      "1/1 [==============================] - ETA: 0s - loss: 1.6963 - accuracy: 0.7931\n",
      "Epoch 56: val_accuracy did not improve from 0.75000\n",
      "1/1 [==============================] - 0s 57ms/step - loss: 1.6963 - accuracy: 0.7931 - val_loss: 3.1879 - val_accuracy: 0.5000\n",
      "Epoch 57/100\n",
      "1/1 [==============================] - ETA: 0s - loss: 3.0135 - accuracy: 0.5517\n",
      "Epoch 57: val_accuracy did not improve from 0.75000\n",
      "1/1 [==============================] - 0s 60ms/step - loss: 3.0135 - accuracy: 0.5517 - val_loss: 3.1965 - val_accuracy: 0.5000\n",
      "Epoch 58/100\n",
      "1/1 [==============================] - ETA: 0s - loss: 3.5006 - accuracy: 0.7241\n",
      "Epoch 58: val_accuracy did not improve from 0.75000\n",
      "1/1 [==============================] - 0s 58ms/step - loss: 3.5006 - accuracy: 0.7241 - val_loss: 3.3722 - val_accuracy: 0.5000\n",
      "Epoch 59/100\n",
      "1/1 [==============================] - ETA: 0s - loss: 2.9377 - accuracy: 0.7241\n",
      "Epoch 59: val_accuracy did not improve from 0.75000\n",
      "1/1 [==============================] - 0s 55ms/step - loss: 2.9377 - accuracy: 0.7241 - val_loss: 3.5906 - val_accuracy: 0.5000\n",
      "Epoch 60/100\n",
      "1/1 [==============================] - ETA: 0s - loss: 2.7033 - accuracy: 0.5862\n",
      "Epoch 60: val_accuracy did not improve from 0.75000\n",
      "1/1 [==============================] - 0s 83ms/step - loss: 2.7033 - accuracy: 0.5862 - val_loss: 3.7857 - val_accuracy: 0.5000\n",
      "Epoch 61/100\n",
      "1/1 [==============================] - ETA: 0s - loss: 1.9264 - accuracy: 0.6207\n",
      "Epoch 61: val_accuracy did not improve from 0.75000\n",
      "1/1 [==============================] - 0s 82ms/step - loss: 1.9264 - accuracy: 0.6207 - val_loss: 3.8196 - val_accuracy: 0.5000\n",
      "Epoch 62/100\n",
      "1/1 [==============================] - ETA: 0s - loss: 1.1470 - accuracy: 0.7931\n",
      "Epoch 62: val_accuracy did not improve from 0.75000\n",
      "1/1 [==============================] - 0s 50ms/step - loss: 1.1470 - accuracy: 0.7931 - val_loss: 3.8887 - val_accuracy: 0.5000\n",
      "Epoch 63/100\n",
      "1/1 [==============================] - ETA: 0s - loss: 1.2339 - accuracy: 0.6897\n",
      "Epoch 63: val_accuracy did not improve from 0.75000\n",
      "1/1 [==============================] - 0s 58ms/step - loss: 1.2339 - accuracy: 0.6897 - val_loss: 3.9409 - val_accuracy: 0.5000\n",
      "Epoch 64/100\n",
      "1/1 [==============================] - ETA: 0s - loss: 1.3024 - accuracy: 0.8276\n",
      "Epoch 64: val_accuracy did not improve from 0.75000\n",
      "1/1 [==============================] - 0s 40ms/step - loss: 1.3024 - accuracy: 0.8276 - val_loss: 3.9601 - val_accuracy: 0.5000\n",
      "Epoch 65/100\n",
      "1/1 [==============================] - ETA: 0s - loss: 2.1115 - accuracy: 0.6897\n",
      "Epoch 65: val_accuracy did not improve from 0.75000\n",
      "1/1 [==============================] - 0s 44ms/step - loss: 2.1115 - accuracy: 0.6897 - val_loss: 4.0199 - val_accuracy: 0.5000\n",
      "Epoch 66/100\n",
      "1/1 [==============================] - ETA: 0s - loss: 2.2816 - accuracy: 0.7241\n",
      "Epoch 66: val_accuracy did not improve from 0.75000\n",
      "1/1 [==============================] - 0s 40ms/step - loss: 2.2816 - accuracy: 0.7241 - val_loss: 4.0885 - val_accuracy: 0.5000\n",
      "Epoch 67/100\n",
      "1/1 [==============================] - ETA: 0s - loss: 1.6667 - accuracy: 0.8276\n",
      "Epoch 67: val_accuracy did not improve from 0.75000\n",
      "1/1 [==============================] - 0s 45ms/step - loss: 1.6667 - accuracy: 0.8276 - val_loss: 4.2619 - val_accuracy: 0.5000\n",
      "Epoch 68/100\n",
      "1/1 [==============================] - ETA: 0s - loss: 1.3619 - accuracy: 0.8621\n",
      "Epoch 68: val_accuracy did not improve from 0.75000\n",
      "1/1 [==============================] - 0s 47ms/step - loss: 1.3619 - accuracy: 0.8621 - val_loss: 4.4324 - val_accuracy: 0.5000\n",
      "Epoch 69/100\n",
      "1/1 [==============================] - ETA: 0s - loss: 1.8319 - accuracy: 0.7241\n",
      "Epoch 69: val_accuracy did not improve from 0.75000\n",
      "1/1 [==============================] - 0s 42ms/step - loss: 1.8319 - accuracy: 0.7241 - val_loss: 4.3839 - val_accuracy: 0.5000\n",
      "Epoch 70/100\n",
      "1/1 [==============================] - ETA: 0s - loss: 2.0687 - accuracy: 0.7586\n",
      "Epoch 70: val_accuracy did not improve from 0.75000\n",
      "1/1 [==============================] - 0s 41ms/step - loss: 2.0687 - accuracy: 0.7586 - val_loss: 4.2183 - val_accuracy: 0.5000\n",
      "Epoch 71/100\n",
      "1/1 [==============================] - ETA: 0s - loss: 1.9866 - accuracy: 0.7586\n",
      "Epoch 71: val_accuracy did not improve from 0.75000\n",
      "1/1 [==============================] - 0s 39ms/step - loss: 1.9866 - accuracy: 0.7586 - val_loss: 4.0578 - val_accuracy: 0.5000\n",
      "Epoch 72/100\n",
      "1/1 [==============================] - ETA: 0s - loss: 1.5799 - accuracy: 0.8276\n",
      "Epoch 72: val_accuracy did not improve from 0.75000\n",
      "1/1 [==============================] - 0s 41ms/step - loss: 1.5799 - accuracy: 0.8276 - val_loss: 3.9001 - val_accuracy: 0.5000\n",
      "Epoch 73/100\n",
      "1/1 [==============================] - ETA: 0s - loss: 1.1566 - accuracy: 0.8276\n",
      "Epoch 73: val_accuracy did not improve from 0.75000\n",
      "1/1 [==============================] - 0s 44ms/step - loss: 1.1566 - accuracy: 0.8276 - val_loss: 3.7480 - val_accuracy: 0.5000\n",
      "Epoch 74/100\n",
      "1/1 [==============================] - ETA: 0s - loss: 0.4508 - accuracy: 0.8966\n",
      "Epoch 74: val_accuracy did not improve from 0.75000\n",
      "1/1 [==============================] - 0s 53ms/step - loss: 0.4508 - accuracy: 0.8966 - val_loss: 3.6757 - val_accuracy: 0.5000\n",
      "Epoch 75/100\n",
      "1/1 [==============================] - ETA: 0s - loss: 0.9982 - accuracy: 0.7931\n",
      "Epoch 75: val_accuracy did not improve from 0.75000\n",
      "1/1 [==============================] - 0s 42ms/step - loss: 0.9982 - accuracy: 0.7931 - val_loss: 3.5744 - val_accuracy: 0.5000\n",
      "Epoch 76/100\n",
      "1/1 [==============================] - ETA: 0s - loss: 0.6250 - accuracy: 0.8621\n",
      "Epoch 76: val_accuracy did not improve from 0.75000\n",
      "1/1 [==============================] - 0s 46ms/step - loss: 0.6250 - accuracy: 0.8621 - val_loss: 3.4612 - val_accuracy: 0.5000\n",
      "Epoch 77/100\n",
      "1/1 [==============================] - ETA: 0s - loss: 1.5136 - accuracy: 0.8621\n",
      "Epoch 77: val_accuracy did not improve from 0.75000\n",
      "1/1 [==============================] - 0s 40ms/step - loss: 1.5136 - accuracy: 0.8621 - val_loss: 3.2978 - val_accuracy: 0.5000\n",
      "Epoch 78/100\n",
      "1/1 [==============================] - ETA: 0s - loss: 0.7566 - accuracy: 0.8276\n",
      "Epoch 78: val_accuracy did not improve from 0.75000\n",
      "1/1 [==============================] - 0s 42ms/step - loss: 0.7566 - accuracy: 0.8276 - val_loss: 3.1546 - val_accuracy: 0.5000\n",
      "Epoch 79/100\n",
      "1/1 [==============================] - ETA: 0s - loss: 0.8913 - accuracy: 0.8966\n",
      "Epoch 79: val_accuracy did not improve from 0.75000\n",
      "1/1 [==============================] - 0s 40ms/step - loss: 0.8913 - accuracy: 0.8966 - val_loss: 2.9947 - val_accuracy: 0.5000\n",
      "Epoch 80/100\n",
      "1/1 [==============================] - ETA: 0s - loss: 0.3788 - accuracy: 0.8276\n",
      "Epoch 80: val_accuracy did not improve from 0.75000\n",
      "1/1 [==============================] - 0s 44ms/step - loss: 0.3788 - accuracy: 0.8276 - val_loss: 2.8768 - val_accuracy: 0.5000\n",
      "Epoch 81/100\n",
      "1/1 [==============================] - ETA: 0s - loss: 1.7176 - accuracy: 0.7931\n",
      "Epoch 81: val_accuracy did not improve from 0.75000\n",
      "1/1 [==============================] - 0s 42ms/step - loss: 1.7176 - accuracy: 0.7931 - val_loss: 2.7941 - val_accuracy: 0.5000\n",
      "Epoch 82/100\n",
      "1/1 [==============================] - ETA: 0s - loss: 1.3102 - accuracy: 0.8276\n",
      "Epoch 82: val_accuracy did not improve from 0.75000\n",
      "1/1 [==============================] - 0s 46ms/step - loss: 1.3102 - accuracy: 0.8276 - val_loss: 2.6711 - val_accuracy: 0.5000\n",
      "Epoch 83/100\n",
      "1/1 [==============================] - ETA: 0s - loss: 0.8395 - accuracy: 0.8621\n",
      "Epoch 83: val_accuracy did not improve from 0.75000\n",
      "1/1 [==============================] - 0s 46ms/step - loss: 0.8395 - accuracy: 0.8621 - val_loss: 2.6434 - val_accuracy: 0.5000\n",
      "Epoch 84/100\n",
      "1/1 [==============================] - ETA: 0s - loss: 0.4419 - accuracy: 0.9310\n",
      "Epoch 84: val_accuracy did not improve from 0.75000\n",
      "1/1 [==============================] - 0s 40ms/step - loss: 0.4419 - accuracy: 0.9310 - val_loss: 2.6247 - val_accuracy: 0.5000\n",
      "Epoch 85/100\n",
      "1/1 [==============================] - ETA: 0s - loss: 1.8104 - accuracy: 0.8621\n",
      "Epoch 85: val_accuracy did not improve from 0.75000\n",
      "1/1 [==============================] - 0s 42ms/step - loss: 1.8104 - accuracy: 0.8621 - val_loss: 2.7211 - val_accuracy: 0.5000\n",
      "Epoch 86/100\n",
      "1/1 [==============================] - ETA: 0s - loss: 1.6152 - accuracy: 0.8276\n",
      "Epoch 86: val_accuracy did not improve from 0.75000\n",
      "1/1 [==============================] - 0s 40ms/step - loss: 1.6152 - accuracy: 0.8276 - val_loss: 2.8111 - val_accuracy: 0.5000\n",
      "Epoch 87/100\n",
      "1/1 [==============================] - ETA: 0s - loss: 1.1877 - accuracy: 0.8276\n",
      "Epoch 87: val_accuracy did not improve from 0.75000\n",
      "1/1 [==============================] - 0s 40ms/step - loss: 1.1877 - accuracy: 0.8276 - val_loss: 2.9338 - val_accuracy: 0.5000\n",
      "Epoch 88/100\n",
      "1/1 [==============================] - ETA: 0s - loss: 0.3040 - accuracy: 0.8966\n",
      "Epoch 88: val_accuracy did not improve from 0.75000\n",
      "1/1 [==============================] - 0s 41ms/step - loss: 0.3040 - accuracy: 0.8966 - val_loss: 3.1472 - val_accuracy: 0.5000\n",
      "Epoch 89/100\n",
      "1/1 [==============================] - ETA: 0s - loss: 1.0522 - accuracy: 0.8621\n",
      "Epoch 89: val_accuracy did not improve from 0.75000\n",
      "1/1 [==============================] - 0s 44ms/step - loss: 1.0522 - accuracy: 0.8621 - val_loss: 3.4125 - val_accuracy: 0.5000\n",
      "Epoch 90/100\n",
      "1/1 [==============================] - ETA: 0s - loss: 0.5157 - accuracy: 0.8966\n",
      "Epoch 90: val_accuracy did not improve from 0.75000\n",
      "1/1 [==============================] - 0s 40ms/step - loss: 0.5157 - accuracy: 0.8966 - val_loss: 3.7101 - val_accuracy: 0.5000\n",
      "Epoch 91/100\n",
      "1/1 [==============================] - ETA: 0s - loss: 1.0363 - accuracy: 0.8966\n",
      "Epoch 91: val_accuracy did not improve from 0.75000\n",
      "1/1 [==============================] - 0s 46ms/step - loss: 1.0363 - accuracy: 0.8966 - val_loss: 4.0036 - val_accuracy: 0.5000\n",
      "Epoch 92/100\n",
      "1/1 [==============================] - ETA: 0s - loss: 0.5267 - accuracy: 0.8966\n",
      "Epoch 92: val_accuracy did not improve from 0.75000\n",
      "1/1 [==============================] - 0s 39ms/step - loss: 0.5267 - accuracy: 0.8966 - val_loss: 4.2856 - val_accuracy: 0.5000\n",
      "Epoch 93/100\n",
      "1/1 [==============================] - ETA: 0s - loss: 0.8721 - accuracy: 0.8276\n",
      "Epoch 93: val_accuracy did not improve from 0.75000\n",
      "1/1 [==============================] - 0s 41ms/step - loss: 0.8721 - accuracy: 0.8276 - val_loss: 4.5087 - val_accuracy: 0.5000\n",
      "Epoch 94/100\n",
      "1/1 [==============================] - ETA: 0s - loss: 0.8887 - accuracy: 0.8621\n",
      "Epoch 94: val_accuracy did not improve from 0.75000\n",
      "1/1 [==============================] - 0s 42ms/step - loss: 0.8887 - accuracy: 0.8621 - val_loss: 4.7036 - val_accuracy: 0.5000\n",
      "Epoch 95/100\n",
      "1/1 [==============================] - ETA: 0s - loss: 0.7993 - accuracy: 0.8966\n",
      "Epoch 95: val_accuracy did not improve from 0.75000\n",
      "1/1 [==============================] - 0s 41ms/step - loss: 0.7993 - accuracy: 0.8966 - val_loss: 4.8726 - val_accuracy: 0.5000\n",
      "Epoch 96/100\n",
      "1/1 [==============================] - ETA: 0s - loss: 0.3292 - accuracy: 0.8276\n",
      "Epoch 96: val_accuracy did not improve from 0.75000\n",
      "1/1 [==============================] - 0s 44ms/step - loss: 0.3292 - accuracy: 0.8276 - val_loss: 5.0237 - val_accuracy: 0.5000\n",
      "Epoch 97/100\n",
      "1/1 [==============================] - ETA: 0s - loss: 0.8773 - accuracy: 0.8966\n",
      "Epoch 97: val_accuracy did not improve from 0.75000\n",
      "1/1 [==============================] - 0s 42ms/step - loss: 0.8773 - accuracy: 0.8966 - val_loss: 5.1527 - val_accuracy: 0.5000\n",
      "Epoch 98/100\n",
      "1/1 [==============================] - ETA: 0s - loss: 0.4735 - accuracy: 0.9655\n",
      "Epoch 98: val_accuracy did not improve from 0.75000\n",
      "1/1 [==============================] - 0s 42ms/step - loss: 0.4735 - accuracy: 0.9655 - val_loss: 5.2692 - val_accuracy: 0.5000\n",
      "Epoch 99/100\n",
      "1/1 [==============================] - ETA: 0s - loss: 0.9804 - accuracy: 0.8276\n",
      "Epoch 99: val_accuracy did not improve from 0.75000\n",
      "1/1 [==============================] - 0s 47ms/step - loss: 0.9804 - accuracy: 0.8276 - val_loss: 5.3523 - val_accuracy: 0.5000\n",
      "Epoch 100/100\n",
      "1/1 [==============================] - ETA: 0s - loss: 0.2280 - accuracy: 0.9310\n",
      "Epoch 100: val_accuracy did not improve from 0.75000\n",
      "1/1 [==============================] - 0s 44ms/step - loss: 0.2280 - accuracy: 0.9310 - val_loss: 5.4323 - val_accuracy: 0.5000\n"
     ]
    },
    {
     "data": {
      "text/plain": [
       "<keras.callbacks.History at 0x7fec545ec4c0>"
      ]
     },
     "execution_count": 25,
     "metadata": {},
     "output_type": "execute_result"
    }
   ],
   "source": [
    "model.fit(X_train, y_train, batch_size=num_batch_size, epochs=num_epochs, validation_data=(x_test, y_test),callbacks=[checkpointer])"
   ]
  },
  {
   "cell_type": "code",
   "execution_count": 26,
   "metadata": {},
   "outputs": [
    {
     "name": "stdout",
     "output_type": "stream",
     "text": [
      "Training Accuracy: 100.00%\n"
     ]
    }
   ],
   "source": [
    "score = model.evaluate(X_train, y_train, verbose=0)\n",
    "print(\"Training Accuracy: {0:.2%}\".format(score[1]))"
   ]
  },
  {
   "cell_type": "code",
   "execution_count": 27,
   "metadata": {},
   "outputs": [
    {
     "name": "stderr",
     "output_type": "stream",
     "text": [
      "/tmp/ipykernel_29035/2441616808.py:7: FutureWarning: Pass y=[ 0.000000e+00  0.000000e+00  0.000000e+00 ... -9.254414e-07  2.067170e-06\n",
      "  0.000000e+00] as keyword args. From version 0.10 passing these as positional arguments will result in an error\n",
      "  mel = np.mean(librosa.feature.melspectrogram(X, sr=sample_rate).T,axis=0)\n",
      "/tmp/ipykernel_29035/2441616808.py:7: FutureWarning: Pass y=[-0.00119755 -0.00084924 -0.00064206 ...  0.00080524  0.00048259\n",
      "  0.0002059 ] as keyword args. From version 0.10 passing these as positional arguments will result in an error\n",
      "  mel = np.mean(librosa.feature.melspectrogram(X, sr=sample_rate).T,axis=0)\n",
      "/tmp/ipykernel_29035/2441616808.py:7: FutureWarning: Pass y=[ 0.          0.          0.         ... -0.00047063 -0.00054746\n",
      " -0.00040489] as keyword args. From version 0.10 passing these as positional arguments will result in an error\n",
      "  mel = np.mean(librosa.feature.melspectrogram(X, sr=sample_rate).T,axis=0)\n",
      "/tmp/ipykernel_29035/2441616808.py:7: FutureWarning: Pass y=[ 1.4644882e-06 -2.3482004e-04  1.5982481e-04 ...  8.6311074e-03\n",
      "  6.7476803e-03  0.0000000e+00] as keyword args. From version 0.10 passing these as positional arguments will result in an error\n",
      "  mel = np.mean(librosa.feature.melspectrogram(X, sr=sample_rate).T,axis=0)\n",
      "/tmp/ipykernel_29035/2441616808.py:7: FutureWarning: Pass y=[-0.00017221 -0.00020961 -0.00016796 ...  0.00043707  0.00063345\n",
      "  0.        ] as keyword args. From version 0.10 passing these as positional arguments will result in an error\n",
      "  mel = np.mean(librosa.feature.melspectrogram(X, sr=sample_rate).T,axis=0)\n",
      "/tmp/ipykernel_29035/2441616808.py:7: FutureWarning: Pass y=[ 0.          0.          0.         ... -0.00358758  0.00166401\n",
      " -0.00675077] as keyword args. From version 0.10 passing these as positional arguments will result in an error\n",
      "  mel = np.mean(librosa.feature.melspectrogram(X, sr=sample_rate).T,axis=0)\n",
      "/tmp/ipykernel_29035/2441616808.py:7: FutureWarning: Pass y=[ 0.0000000e+00  0.0000000e+00  0.0000000e+00 ...  2.9179559e-05\n",
      " -2.2510408e-06  0.0000000e+00] as keyword args. From version 0.10 passing these as positional arguments will result in an error\n",
      "  mel = np.mean(librosa.feature.melspectrogram(X, sr=sample_rate).T,axis=0)\n",
      "/tmp/ipykernel_29035/2441616808.py:7: FutureWarning: Pass y=[0.00941668 0.0106774  0.00856549 ... 0.00829556 0.00901159 0.        ] as keyword args. From version 0.10 passing these as positional arguments will result in an error\n",
      "  mel = np.mean(librosa.feature.melspectrogram(X, sr=sample_rate).T,axis=0)\n",
      "/tmp/ipykernel_29035/2441616808.py:7: FutureWarning: Pass y=[ 0.0000000e+00  0.0000000e+00  0.0000000e+00 ... -6.0814295e-05\n",
      " -6.0449875e-05 -6.3622821e-05] as keyword args. From version 0.10 passing these as positional arguments will result in an error\n",
      "  mel = np.mean(librosa.feature.melspectrogram(X, sr=sample_rate).T,axis=0)\n",
      "/tmp/ipykernel_29035/2441616808.py:7: FutureWarning: Pass y=[ 6.8550762e-05 -1.6393598e-04 -3.1922487e-04 ... -3.6955557e-06\n",
      "  1.7561123e-04  0.0000000e+00] as keyword args. From version 0.10 passing these as positional arguments will result in an error\n",
      "  mel = np.mean(librosa.feature.melspectrogram(X, sr=sample_rate).T,axis=0)\n",
      "/tmp/ipykernel_29035/2441616808.py:7: FutureWarning: Pass y=[0. 0. 0. ... 0. 0. 0.] as keyword args. From version 0.10 passing these as positional arguments will result in an error\n",
      "  mel = np.mean(librosa.feature.melspectrogram(X, sr=sample_rate).T,axis=0)\n",
      "/tmp/ipykernel_29035/2441616808.py:7: FutureWarning: Pass y=[ 0.09698916  0.11537904  0.0615954  ... -0.00177136 -0.00034354\n",
      "  0.00113189] as keyword args. From version 0.10 passing these as positional arguments will result in an error\n",
      "  mel = np.mean(librosa.feature.melspectrogram(X, sr=sample_rate).T,axis=0)\n",
      "/tmp/ipykernel_29035/2441616808.py:7: FutureWarning: Pass y=[-0.04798543 -0.05137672 -0.01789257 ...  0.1534463   0.11657579\n",
      "  0.07751188] as keyword args. From version 0.10 passing these as positional arguments will result in an error\n",
      "  mel = np.mean(librosa.feature.melspectrogram(X, sr=sample_rate).T,axis=0)\n",
      "/tmp/ipykernel_29035/2441616808.py:7: FutureWarning: Pass y=[-0.00178093 -0.0012854  -0.00066504 ... -0.00105677 -0.00088943\n",
      "  0.        ] as keyword args. From version 0.10 passing these as positional arguments will result in an error\n",
      "  mel = np.mean(librosa.feature.melspectrogram(X, sr=sample_rate).T,axis=0)\n",
      "/tmp/ipykernel_29035/2441616808.py:7: FutureWarning: Pass y=[ 0.          0.          0.         ... -0.00126983 -0.00098932\n",
      "  0.        ] as keyword args. From version 0.10 passing these as positional arguments will result in an error\n",
      "  mel = np.mean(librosa.feature.melspectrogram(X, sr=sample_rate).T,axis=0)\n",
      "/tmp/ipykernel_29035/2441616808.py:7: FutureWarning: Pass y=[ 0.00012112  0.00023448  0.00019534 ... -0.00510969 -0.00490376\n",
      "  0.        ] as keyword args. From version 0.10 passing these as positional arguments will result in an error\n",
      "  mel = np.mean(librosa.feature.melspectrogram(X, sr=sample_rate).T,axis=0)\n",
      "/tmp/ipykernel_29035/2441616808.py:7: FutureWarning: Pass y=[ 0.000000e+00  0.000000e+00  0.000000e+00 ... -3.073550e-05 -6.828008e-05\n",
      "  0.000000e+00] as keyword args. From version 0.10 passing these as positional arguments will result in an error\n",
      "  mel = np.mean(librosa.feature.melspectrogram(X, sr=sample_rate).T,axis=0)\n",
      "/tmp/ipykernel_29035/2441616808.py:7: FutureWarning: Pass y=[ 0.0000000e+00  0.0000000e+00  0.0000000e+00 ... -9.9419367e-06\n",
      " -3.4819273e-06  0.0000000e+00] as keyword args. From version 0.10 passing these as positional arguments will result in an error\n",
      "  mel = np.mean(librosa.feature.melspectrogram(X, sr=sample_rate).T,axis=0)\n",
      "/tmp/ipykernel_29035/2441616808.py:7: FutureWarning: Pass y=[0.0025286  0.00292597 0.00241005 ... 0.00217773 0.00136345 0.        ] as keyword args. From version 0.10 passing these as positional arguments will result in an error\n",
      "  mel = np.mean(librosa.feature.melspectrogram(X, sr=sample_rate).T,axis=0)\n",
      "/tmp/ipykernel_29035/2441616808.py:7: FutureWarning: Pass y=[0.000000e+00 0.000000e+00 0.000000e+00 ... 5.826955e-05 4.884305e-06\n",
      " 0.000000e+00] as keyword args. From version 0.10 passing these as positional arguments will result in an error\n",
      "  mel = np.mean(librosa.feature.melspectrogram(X, sr=sample_rate).T,axis=0)\n",
      "/tmp/ipykernel_29035/2441616808.py:7: FutureWarning: Pass y=[ 0.          0.          0.         ... -0.00204053 -0.00279046\n",
      " -0.00194175] as keyword args. From version 0.10 passing these as positional arguments will result in an error\n",
      "  mel = np.mean(librosa.feature.melspectrogram(X, sr=sample_rate).T,axis=0)\n",
      "/tmp/ipykernel_29035/2441616808.py:7: FutureWarning: Pass y=[0.         0.         0.         ... 0.00075269 0.00050043 0.00024575] as keyword args. From version 0.10 passing these as positional arguments will result in an error\n",
      "  mel = np.mean(librosa.feature.melspectrogram(X, sr=sample_rate).T,axis=0)\n",
      "/tmp/ipykernel_29035/2441616808.py:7: FutureWarning: Pass y=[ 0.0000000e+00  0.0000000e+00  0.0000000e+00 ... -2.3682844e-05\n",
      " -5.6885085e-05  0.0000000e+00] as keyword args. From version 0.10 passing these as positional arguments will result in an error\n",
      "  mel = np.mean(librosa.feature.melspectrogram(X, sr=sample_rate).T,axis=0)\n",
      "/tmp/ipykernel_29035/2441616808.py:7: FutureWarning: Pass y=[ 3.0945437e-05 -1.3458582e-04  1.2354496e-05 ...  5.4213069e-03\n",
      "  5.7068798e-03  0.0000000e+00] as keyword args. From version 0.10 passing these as positional arguments will result in an error\n",
      "  mel = np.mean(librosa.feature.melspectrogram(X, sr=sample_rate).T,axis=0)\n",
      "/tmp/ipykernel_29035/2441616808.py:7: FutureWarning: Pass y=[ 0.0000000e+00  0.0000000e+00  0.0000000e+00 ... -2.1758084e-05\n",
      " -2.2499329e-08  0.0000000e+00] as keyword args. From version 0.10 passing these as positional arguments will result in an error\n",
      "  mel = np.mean(librosa.feature.melspectrogram(X, sr=sample_rate).T,axis=0)\n",
      "/tmp/ipykernel_29035/2441616808.py:7: FutureWarning: Pass y=[ 0.          0.          0.         ... -0.00017369 -0.00019876\n",
      "  0.        ] as keyword args. From version 0.10 passing these as positional arguments will result in an error\n",
      "  mel = np.mean(librosa.feature.melspectrogram(X, sr=sample_rate).T,axis=0)\n",
      "/tmp/ipykernel_29035/2441616808.py:21: DeprecationWarning: `np.int` is a deprecated alias for the builtin `int`. To silence this warning, use `int` by itself. Doing this will not modify any behavior and is safe. When replacing `np.int`, you may wish to use e.g. `np.int64` or `np.int32` to specify the precision. If you wish to review your current use, check the release note link for additional information.\n",
      "Deprecated in NumPy 1.20; for more details and guidance: https://numpy.org/devdocs/release/1.20.0-notes.html#deprecations\n",
      "  return np.array(features), np.array(labels, dtype = np.int)\n"
     ]
    }
   ],
   "source": [
    "sub_dirs = ['nm', 'pm', 'VS', 'Mala']\n",
    "classes = {'nm': 0, 'pm': 1, 'VS': 2, 'Mala': 3}\n",
    "features, labels = parse_audio_files(test_dir, sub_dirs, classes)"
   ]
  },
  {
   "cell_type": "code",
   "execution_count": 28,
   "metadata": {},
   "outputs": [
    {
     "data": {
      "text/plain": [
       "array([[-5.85496521e+02,  7.05440826e+01, -8.69348049e+00, ...,\n",
       "         1.53890626e-02,  5.34147028e-02, -5.91246754e-02],\n",
       "       [-4.03394623e+02,  1.18806412e+02, -3.02552605e+01, ...,\n",
       "        -3.33223307e-02, -7.13518584e-04,  1.17023634e-02],\n",
       "       [-2.10548889e+02,  8.95357056e+01, -1.60869007e+01, ...,\n",
       "        -8.04908113e-03,  4.00257375e-04, -4.36154907e-03],\n",
       "       ...,\n",
       "       [-3.58777191e+02,  1.03966736e+02, -3.27147484e+00, ...,\n",
       "         6.30983289e-02,  1.09606349e-02, -2.65028507e-02],\n",
       "       [-2.65419373e+02,  8.49839859e+01, -1.28896999e+01, ...,\n",
       "         2.38555490e-03,  5.11086843e-03,  1.81329763e-03],\n",
       "       [-4.45652344e+02,  9.34927368e+01, -8.49128342e+00, ...,\n",
       "         4.73379586e-03,  5.81958999e-03, -5.17249304e-03]])"
      ]
     },
     "execution_count": 28,
     "metadata": {},
     "output_type": "execute_result"
    }
   ],
   "source": [
    "features"
   ]
  },
  {
   "cell_type": "code",
   "execution_count": 29,
   "metadata": {},
   "outputs": [
    {
     "data": {
      "text/plain": [
       "array([0, 0, 0, 0, 0, 1, 1, 1, 1, 1, 2, 2, 2, 2, 2, 2, 3, 3, 3, 3, 3, 3,\n",
       "       3, 3, 3, 3])"
      ]
     },
     "execution_count": 29,
     "metadata": {},
     "output_type": "execute_result"
    }
   ],
   "source": [
    "labels"
   ]
  },
  {
   "cell_type": "code",
   "execution_count": 30,
   "metadata": {},
   "outputs": [
    {
     "name": "stdout",
     "output_type": "stream",
     "text": [
      "26\n",
      "1/1 [==============================] - 0s 108ms/step\n",
      "[0 0 0 0 0 1 1 1 1 1 2 2 2 2 2 2 3 3 3 3 3 3 3 3 3 3]\n",
      "[2, 2, 0, 0, 0, 1, 2, 0, 2, 1, 2, 2, 2, 2, 0, 1, 1, 2, 2, 2, 0, 0, 2, 1, 0, 2]\n"
     ]
    }
   ],
   "source": [
    "X1 = features\n",
    "y1 = labels\n",
    "# print(X1)\n",
    "print(len(X1))\n",
    "\n",
    "ynew = model.predict(X1)\n",
    "# show the inputs and predicted probabilities\n",
    "pred_label = []\n",
    "original=[]\n",
    "for i in range(len(X1)):\n",
    "  Predicted=ynew[i]\n",
    "  # print(Predicted)\n",
    "  # # print(\"X=%s,\\n Predicted=%s\" % (X1[i], ynew[i]))\n",
    "  pred_final1 = np.argmax(Predicted)\n",
    "  pred_label.append(pred_final1)\n",
    "  y1 = labels\n",
    "\n",
    "print(labels)\n",
    "print(pred_label)"
   ]
  },
  {
   "cell_type": "code",
   "execution_count": 32,
   "metadata": {},
   "outputs": [
    {
     "data": {
      "text/plain": [
       "array([0, 0, 0, 0, 0, 1, 1, 1, 1, 1, 2, 2, 2, 2, 2, 2, 3, 3, 3, 3, 3, 3,\n",
       "       3, 3, 3, 3])"
      ]
     },
     "execution_count": 32,
     "metadata": {},
     "output_type": "execute_result"
    }
   ],
   "source": [
    "labels"
   ]
  },
  {
   "cell_type": "code",
   "execution_count": 33,
   "metadata": {},
   "outputs": [
    {
     "data": {
      "text/plain": [
       "<AxesSubplot: xlabel='Predicted', ylabel='Actual'>"
      ]
     },
     "execution_count": 33,
     "metadata": {},
     "output_type": "execute_result"
    },
    {
     "data": {
      "image/png": "[encoded data removed]",
      "text/plain": [
       "<Figure size 1000x400 with 2 Axes>"
      ]
     },
     "metadata": {},
     "output_type": "display_data"
    }
   ],
   "source": [
    "from sklearn.metrics import confusion_matrix\n",
    "from sklearn.metrics import confusion_matrix\n",
    "import pandas as pd\n",
    "import seaborn as sn\n",
    "import matplotlib.pyplot as plt\n",
    "%matplotlib inline\n",
    "import numpy as np\n",
    "\n",
    "y_label = [\"vs\", \"mala\", \"pm\",\"nm\"]\n",
    "\n",
    "cm=confusion_matrix(labels,pred_label)\n",
    "df_cm = pd.DataFrame(cm, columns=np.unique(y_label), index = np.unique(y_label))\n",
    "df_cm.index.name = 'Actual'\n",
    "df_cm.columns.name = 'Predicted'\n",
    "plt.figure(figsize = (10,4))\n",
    "sn.set(font_scale=1.4)#for label size\n",
    "sn.heatmap(df_cm, cmap=\"Greens\", annot=True,annot_kws={\"size\": 16})# font size"
   ]
  },
  {
   "cell_type": "code",
   "execution_count": 34,
   "metadata": {},
   "outputs": [
    {
     "name": "stdout",
     "output_type": "stream",
     "text": [
      "[0.375      0.4        0.30769231        nan]\n",
      "[0.6        0.4        0.66666667 0.        ]\n",
      "[0.46153846 0.4        0.42105263        nan]\n",
      "[0.73076923 0.76923077 0.57692308 0.61538462]\n"
     ]
    },
    {
     "name": "stderr",
     "output_type": "stream",
     "text": [
      "/tmp/ipykernel_29035/1529887052.py:18: RuntimeWarning: invalid value encountered in divide\n",
      "  precision = TP/(TP+FP)\n"
     ]
    }
   ],
   "source": [
    "TP = np.diag(cm)\n",
    "# print(TP)\n",
    "FP = np.sum(cm, axis=0) - TP\n",
    "# print(FP)\n",
    "FN = np.sum(cm, axis=1) - TP\n",
    "# print(FN)\n",
    "num_classes = 4\n",
    "TN = []\n",
    "for i in range(num_classes):\n",
    "    temp = np.delete(cm, i, 0)    # delete ith row\n",
    "    temp = np.delete(temp, i, 1)  # delete ith column\n",
    "    TN.append(sum(sum(temp)))\n",
    "# print(TN)\n",
    "# l = 10000\n",
    "# total\n",
    "# for i in range(num_classes):\n",
    "#     print(TP[i] + FP[i] + FN[i] + TN[i])\n",
    "precision = TP/(TP+FP)\n",
    "print(precision)\n",
    "recall = TP/(TP+FN)\n",
    "print(recall)\n",
    "# specificity = TN/(TN+FP)\n",
    "# print(specificity)\n",
    "F1score= 2*((precision*recall)/(precision+recall))\n",
    "print(F1score)\n",
    "test_accuracy = (TP + TN) / (TP + TN + FP + FN)\n",
    "print(test_accuracy)"
   ]
  },
  {
   "cell_type": "code",
   "execution_count": null,
   "metadata": {},
   "outputs": [],
   "source": []
  }
 ],
 "metadata": {
  "kernelspec": {
   "display_name": "myenv",
   "language": "python",
   "name": "python3"
  },
  "language_info": {
   "codemirror_mode": {
    "name": "ipython",
    "version": 3
   },
   "file_extension": ".py",
   "mimetype": "text/x-python",
   "name": "python",
   "nbconvert_exporter": "python",
   "pygments_lexer": "ipython3",
   "version": "3.9.15"
  },
  "orig_nbformat": 4,
  "vscode": {
   "interpreter": {
    "hash": "041ad26dbb10a8661e7450419833b1f895b9404433ce6ce1546434e658537640"
   }
  }
 },
 "nbformat": 4,
 "nbformat_minor": 2
}
